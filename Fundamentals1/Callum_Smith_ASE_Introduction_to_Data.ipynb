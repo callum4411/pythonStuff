{
 "cells": [
  {
   "cell_type": "markdown",
   "metadata": {
    "id": "1VNJS_n67LoS"
   },
   "source": [
    "## **Introduction to Data**\n",
    "This lab explores data and information:\n",
    "\n",
    "- **Data**: Raw facts and figures, unprocessed and unorganized.\n",
    "- **Information**: Processed data, revealing facts and patterns.\n",
    "\n",
    "Example: Parallel Lists\n",
    "\n",
    "Parallel lists store related elements across multiple lists at the same index.\n",
    "\n",
    "Below, three lists represent `months`, hours spent playing Valorant (`valorantHours`), and hours spent studying (`studyHours`). For example, the value at index 2 in months aligns with the values at index 2 in valorantHours and studyHours."
   ]
  },
  {
   "cell_type": "code",
   "metadata": {
    "id": "OtoaUIHVUqTo",
    "ExecuteTime": {
     "end_time": "2025-01-29T04:40:03.705409Z",
     "start_time": "2025-01-29T04:40:03.699181Z"
    }
   },
   "source": [
    "# Sample data in three lists showing hours spent in two activities every month\n",
    "months = [\"Jan\", \"Feb\", \"Mar\", \"Apr\", \"May\", \"Jun\", \"Jul\", \"Aug\", \"Sep\", \"Oct\", \"Nov\", \"Dec\"]\n",
    "valorantHours = [20, 10, 15, 12, 7, 30, 35, 15, 14, 18, 15, 25]\n",
    "studyHours =    [10,  9, 12, 15, 20, 2,  5, 18, 20, 25, 25, 8]\n"
   ],
   "outputs": [],
   "execution_count": 2
  },
  {
   "cell_type": "markdown",
   "metadata": {
    "id": "IXFEak1MJl04"
   },
   "source": [
    "## You Do #1\n",
    "Think of three (3) ways (operations) you can do to process the given dataset to produce more meaningful information. Write your answers below."
   ]
  },
  {
   "cell_type": "code",
   "metadata": {
    "id": "0HMwVb0xK3jP",
    "ExecuteTime": {
     "end_time": "2025-01-29T04:40:14.362384Z",
     "start_time": "2025-01-29T04:40:14.355690Z"
    }
   },
   "source": [
    "# Write your answer between the ''' marks\n",
    "'''\n",
    "1. You could find average volorant hours and average study hours over the year\n",
    "2. You could input a month and return a ratio of valorant hours over study hours\n",
    "3. total hours spend on valorant and studying\n",
    "\n",
    "'''"
   ],
   "outputs": [
    {
     "data": {
      "text/plain": [
       "'\\n1. You could find average volorant hours and average study hours over the year\\n2. You could input a month and return a ratio of valorant hours over study hours\\n3. total hours spend on valorant and studying\\n\\n'"
      ]
     },
     "execution_count": 3,
     "metadata": {},
     "output_type": "execute_result"
    }
   ],
   "execution_count": 3
  },
  {
   "cell_type": "markdown",
   "metadata": {
    "id": "6zymiK8bLSbT"
   },
   "source": [
    "If your answer is any of the following, then you are right on track.\n",
    "\n",
    "1. Calculate the **monthly total hours** spent on both Valorant and studying for each month to show overall time spent on the activities.\n",
    "\n",
    "2. Calculate the **average hours** spent on Valorant and studying over the year.\n",
    "\n",
    "3. Calculate the **peak and low activity** months to\n",
    "identify which months have the highest and lowest hours for both activities.\n",
    "\n",
    "4. Determine whether there's any **correlation** between the hours spent on Valorant and studying. A negative correlation might suggest more gaming leads to less studying and vice versa."
   ]
  },
  {
   "cell_type": "markdown",
   "metadata": {
    "id": "22TxGQegNN8d"
   },
   "source": [
    "## Data\n",
    "The data presented above are quite simplistic, offering limited information without clear connections and lacking visual appeal.\n",
    "\n",
    "Now, let's perform some more in-depth data analysis. To do this, we will use the popular `pandas` and `matplotlib` Python libraries to add visualization, making it easy to spot trends and correlations. See example of visualization [here](https://newsmap.ijmacd.com/?edition=GB_en)"
   ]
  },
  {
   "cell_type": "code",
   "metadata": {
    "id": "eWZzmfnR9N8J",
    "ExecuteTime": {
     "end_time": "2025-01-29T04:40:20.646002Z",
     "start_time": "2025-01-29T04:40:19.341011Z"
    }
   },
   "source": [
    "# Import visualization and data analysis libraries\n",
    "import matplotlib.pyplot\n",
    "import pandas"
   ],
   "outputs": [],
   "execution_count": 4
  },
  {
   "cell_type": "markdown",
   "metadata": {
    "id": "Ozi-jo4M_eCm"
   },
   "source": [
    "**Data** becomes valuable when it helps identify trends, establish connections, and solve problems.\n",
    "\n",
    "A **DataFrame** in Python, from the pandas library, organizes data into a table with rows (`records`) and columns (`attributes` or `variables`).\n",
    "\n",
    "Using the data provided earlier, we’ll create our first data visualization:\n",
    "\n",
    "- Review the code and comments below.\n",
    "- Run the code to see the output.\n",
    "- Identify how each part of the code contributes to the visual output."
   ]
  },
  {
   "cell_type": "code",
   "source": [
    "import matplotlib.pyplot\n",
    "import pandas\n",
    "\n",
    "# Data in lists\n",
    "months = [\"Jan\", \"Feb\", \"Mar\", \"Apr\", \"May\", \"Jun\", \"Jul\", \"Aug\", \"Sep\", \"Oct\", \"Nov\", \"Dec\"]\n",
    "valorantHours = [20, 10, 15, 12, 7, 30, 35, 15, 14, 18, 15, 25]\n",
    "studyHours = [10, 9, 12, 15, 20, 2, 5, 18, 20, 25, 25, 8]\n",
    "\n",
    "# Create a DataFrame from the three lists to plot the chart\n",
    "table = pandas.DataFrame({\n",
    "    \"Months\": months,\n",
    "    \"Valorant Hours\": valorantHours,\n",
    "    \"Study Hours\": studyHours\n",
    "})\n",
    "\n",
    "# Plotting using Pandas\n",
    "graph = table.plot(kind=\"bar\", stacked=False, color=[\"green\", \"yellow\"])\n",
    "\n",
    "# Labels and title\n",
    "graph.set_xlabel(\"Months\")\n",
    "graph.set_ylabel(\"Hours\")\n",
    "graph.set_title(\"Monthly Comparison of Valorant and Study Hours\")\n",
    "\n",
    "# Rotate x-axis labels\n",
    "graph.set_xticklabels(months, rotation=45)\n",
    "\n",
    "# Adjust layout and show the plot for better display\n",
    "matplotlib.pyplot.tight_layout()\n",
    "matplotlib.pyplot.show()"
   ],
   "metadata": {
    "id": "xjcJBgNu5cYH",
    "ExecuteTime": {
     "end_time": "2025-01-29T04:42:30.868074Z",
     "start_time": "2025-01-29T04:42:30.749472Z"
    }
   },
   "outputs": [
    {
     "data": {
      "text/plain": [
       "<Figure size 640x480 with 1 Axes>"
      ],
      "image/png": "[encoded data removed]"
     },
     "metadata": {},
     "output_type": "display_data"
    }
   ],
   "execution_count": 8
  },
  {
   "cell_type": "markdown",
   "source": [
    "The visual output is a bar graph that compares monthly hours spent on Valorant (in red) and study (in blue) for each month from January (Jan) to December (Dec).\n",
    "\n",
    "Visualizing data can reveal correlations between variables, but correlation does not imply causation. Further research is required to understand their relationship."
   ],
   "metadata": {
    "id": "pZ27GzfrY73a"
   }
  },
  {
   "cell_type": "markdown",
   "source": [
    "# Python Stats Functions\n",
    "Read and Understand: Review the following Python statistical functions and their purposes:\n",
    "\n",
    "- `mean()`: Calculates the average of a dataset.\n",
    "- `sum()`: Adds all the values in a dataset.\n",
    "- `median()`: Finds the middle value in a sorted dataset.\n",
    "- `min()`: Identifies the smallest value in a dataset.\n",
    "- `max()`: Identifies the largest value in a dataset.\n",
    "- `count()`: Counts the number of elements in a dataset.\n",
    "- `mode()`: Finds the most frequently occurring value in a dataset.\n",
    "- `product()`: Multiplies all the values in a dataset together.\n",
    "- `nunique()`: Counts the number of unique values in a dataset.\n",
    "\n",
    "See examples of how these functions are applied to the data above. Run the codes below and write your multiline comments to show your understanding of the code."
   ],
   "metadata": {
    "id": "TRVudvAoM5Hm"
   }
  },
  {
   "cell_type": "code",
   "source": [
    "print(table.median(numeric_only=True))"
   ],
   "metadata": {
    "id": "64PBE2Okjwtw",
    "ExecuteTime": {
     "end_time": "2025-01-29T04:43:04.340728Z",
     "start_time": "2025-01-29T04:43:04.315657Z"
    }
   },
   "outputs": [
    {
     "name": "stdout",
     "output_type": "stream",
     "text": [
      "Valorant Hours    15.0\n",
      "Study Hours       13.5\n",
      "dtype: float64\n"
     ]
    }
   ],
   "execution_count": 9
  },
  {
   "cell_type": "code",
   "source": [
    "print(table.sum())"
   ],
   "metadata": {
    "id": "rEoJODNKj5EV",
    "ExecuteTime": {
     "end_time": "2025-01-29T04:43:06.732702Z",
     "start_time": "2025-01-29T04:43:06.727870Z"
    }
   },
   "outputs": [
    {
     "name": "stdout",
     "output_type": "stream",
     "text": [
      "Months            JanFebMarAprMayJunJulAugSepOctNovDec\n",
      "Valorant Hours                                     216\n",
      "Study Hours                                        169\n",
      "dtype: object\n"
     ]
    }
   ],
   "execution_count": 10
  },
  {
   "cell_type": "markdown",
   "source": [
    "## You Do #3\n",
    "What additional information can you draw from examining the graph that might not be readily apparent from simply looking at the raw data in the lists?"
   ],
   "metadata": {
    "id": "HC-YiTeF6d8X"
   }
  },
  {
   "cell_type": "code",
   "metadata": {
    "id": "TGCU-rtV9RKw",
    "ExecuteTime": {
     "end_time": "2025-01-29T04:43:11.046607Z",
     "start_time": "2025-01-29T04:43:11.028829Z"
    }
   },
   "source": [
    "# Write your answer in between ''' '''\n",
    "'''\n",
    "Maximum and minimums\n",
    "\n",
    "'''\n",
    "print(table.min(numeric_only= True))"
   ],
   "outputs": [
    {
     "name": "stdout",
     "output_type": "stream",
     "text": [
      "Valorant Hours    7\n",
      "Study Hours       2\n",
      "dtype: int64\n"
     ]
    }
   ],
   "execution_count": 11
  },
  {
   "cell_type": "markdown",
   "source": [
    "Notice that the value of data lies in how it is interpreted and analyzed to extract useful information.\n"
   ],
   "metadata": {
    "id": "1qIaOE54feYA"
   }
  },
  {
   "cell_type": "markdown",
   "metadata": {
    "id": "Dq8oDgQY_h67"
   },
   "source": [
    "## External Data Storage\n",
    "The data we processed previously was hardcoded in three parallel lists, which is not how real-world data are stored and processed.\n",
    "\n",
    "Here, shown in three steps, we will use an external storage to store and process data. We will use a set of algorithms to perform operations on the data to draw meaningful information.\n",
    "\n",
    "The data we will process is on Women in STEM is a Google Sheets file on this link: [womenInSTEM](https://docs.google.com/spreadsheets/d/1gur9Gr1mMfQ4-ETk1WfUYlMd-rJ12CbXFZp_J2C-Ptw/edit?usp=sharing)\n",
    "\n",
    "It is important to note that the Google Sheets file inherently includes **metadata** such as the file's creation date, last modified dates, owner, file size, and etc. While this metadata is crucial for organizing and managing the data effectively, it does not alter the primary data contained in the sheet.\n"
   ]
  },
  {
   "cell_type": "markdown",
   "source": [
    "### **Step #1 Setting Up Data Access**\n",
    "This step focuses on selecting the specific data set to process and establishing the method of access. The data to process is a Google Sheet file named 'womenInSTEM,' which contains raw data related to women in STEM fields. The initial step in data processing involves accessing this data, setting the stage for future analysis to uncover trends or patterns.\n",
    "\n"
   ],
   "metadata": {
    "id": "pofJ2hKMv8cB"
   }
  },
  {
   "cell_type": "code",
   "source": [
    "import pandas\n",
    "import matplotlib.pyplot\n",
    "import pandas as pd\n",
    "\n",
    "def load_csv(file_path):\n",
    "    try:\n",
    "        df = pd.read_csv(file_path)\n",
    "        return df\n",
    "    except FileNotFoundError:\n",
    "        print(f\"File not found at {file_path}\")\n",
    "    except Exception as e:\n",
    "        print(f\"An error occurred{e}\")\n",
    "\n",
    "file_path= \"/Users/callumsmith/PycharmProjects/PythonProject/Unit1_Fundamentals/Fundamentals1/womenInSTEM.csv\"\n",
    "data = load_csv(file_path)\n",
    "\n",
    "if data is not None:\n",
    "    print(data)\n"
   ],
   "metadata": {
    "id": "HxyvV0wOo7zI",
    "ExecuteTime": {
     "end_time": "2025-01-29T04:49:17.759229Z",
     "start_time": "2025-01-29T04:49:17.721160Z"
    }
   },
   "outputs": [
    {
     "name": "stdout",
     "output_type": "stream",
     "text": [
      "    Code                       Major      MajorCategory   Total     Men  \\\n",
      "0   3607                PHARMACOLOGY       Life Science    1762     515   \n",
      "1   3609                     ZOOLOGY       Life Science    8409    3050   \n",
      "2   3702                  STATISTICS        Mathematics    6251    2960   \n",
      "3   2406           CIVIL ENGINEERING        Engineering   53153   41081   \n",
      "4   5005                 GEOSCIENCES  Physical Sciences    1978     809   \n",
      "5   2415   METALLURGICAL ENGINEERING        Engineering     856     725   \n",
      "6   3600                     BIOLOGY            Biology  280709  111762   \n",
      "7   3611                NEUROSCIENCE            Biology   13663    4944   \n",
      "8   2408      ELECTRICAL ENGINEERING        Engineering   81527   65511   \n",
      "9   5000           PHYSICAL SCIENCES  Physical Sciences    1436     894   \n",
      "10  2107                  NETWORKING          Computers    7613    5291   \n",
      "11  3700                 MATHEMATICS        Mathematics   72397   39956   \n",
      "12  2101             DATA PROCESSING          Computers    4168    3046   \n",
      "13  2412      INDUSTRIAL ENGINEERING        Engineering   18968   12453   \n",
      "14  2407        COMPUTER ENGINEERING        Engineering   41542   33258   \n",
      "15  3604                     ECOLOGY       Life Science    9154    3878   \n",
      "16  2500    ENGINEERING TECHNOLOGIES        Engineering    3600    2695   \n",
      "17  5008           MATERIALS SCIENCE        Engineering    4279    2949   \n",
      "18  3605                    GENETICS            Biology    3635    1761   \n",
      "19  3602                      BOTANY            Biology    1329     626   \n",
      "20  3603           MOLECULAR BIOLOGY            Biology   18300    7426   \n",
      "21  2418         NUCLEAR ENGINEERING        Engineering    2573    2200   \n",
      "22  5007                     PHYSICS  Physical Sciences   32142   23080   \n",
      "23  2001  COMMUNICATION TECHNOLOGIES          Computers   18035   11431   \n",
      "24  1301       ENVIRONMENTAL SCIENCE       Life Science   25965   10787   \n",
      "25  5001     ASTRONOMY, ASTROPHYSICS  Physical Sciences    1792     832   \n",
      "26  2413       MATERIALS ENGINEERING        Engineering    2993    2020   \n",
      "27  2405        CHEMICAL ENGINEERING        Engineering   32260   21239   \n",
      "28  3701         APPLIED MATHEMATICS        Mathematics    4939    2794   \n",
      "29  2417          MARINE ENGINEERING        Engineering    1258    1123   \n",
      "30  2410   ENVIRONMENTAL ENGINEERING        Engineering    4047    2662   \n",
      "31  2105        INFORMATION SCIENCES          Computers   11913    9005   \n",
      "32  2404      BIOMEDICAL ENGINEERING        Engineering   14955    8407   \n",
      "33  2414      MECHANICAL ENGINEERING        Engineering   91227   80320   \n",
      "34  5098             GENERAL SCIENCE  Physical Sciences   62052   27015   \n",
      "35  2102            COMPUTER SCIENCE          Computers  128319   99743   \n",
      "36  2419       PETROLEUM ENGINEERING        Engineering    2339    2057   \n",
      "37  2402      BIOLOGICAL ENGINEERING        Engineering    8925    6062   \n",
      "38  5006                OCEANOGRAPHY  Physical Sciences    2418     752   \n",
      "39  4006               BIOPSYCHOLOGY       Life Science    3831    1667   \n",
      "40  3608                  PHYSIOLOGY            Biology   22060    8422   \n",
      "41  5102     INDUSTRIAL TECHNOLOGIES  Physical Sciences    2116     528   \n",
      "42  2403   ARCHITECTURAL ENGINEERING        Engineering    2825    1835   \n",
      "43  2499   MISCELLANEOUS ENGINEERING        Engineering    9133    7398   \n",
      "44  1401                ARCHITECTURE        Engineering   46420   25463   \n",
      "45  2502      ELECTRICAL ENGINEERING        Engineering   11565    8181   \n",
      "46  2100         INFORMATION SYSTEMS          Computers   36698   27392   \n",
      "47  2400         GENERAL ENGINEERING        Engineering   61152   45683   \n",
      "48  2106     COMPUTER ADMINISTRATION          Computers    8066    6607   \n",
      "49  5004               EARTH SCIENCE  Physical Sciences   10972    5813   \n",
      "50  5003                   CHEMISTRY  Physical Sciences   66530   32923   \n",
      "51  3606                MICROBIOLOGY            Biology   15232    6383   \n",
      "52  2401       AEROSPACE ENGINEERING        Engineering   15058   12953   \n",
      "53  3699       MISCELLANEOUS BIOLOGY            Biology   10706    4747   \n",
      "54  5002                 METEOROLOGY  Physical Sciences    4043    2744   \n",
      "55  2411     GEOPHYSICAL ENGINEERING        Engineering     720     488   \n",
      "56  2504      MECHANICAL ENGINEERING        Engineering    4790    4419   \n",
      "57  3601        BIOCHEMICAL SCIENCES       Life Science   39107   18951   \n",
      "58  4005                 MATHEMATICS        Mathematics     609     500   \n",
      "\n",
      "     Women  WomenShare  MedianSalary  \n",
      "0     1247        0.71         45000  \n",
      "1     5359        0.64         26000  \n",
      "2     3291        0.53         45000  \n",
      "3    12072        0.23         50000  \n",
      "4     1169        0.59         36000  \n",
      "5      131        0.15         73000  \n",
      "6   168947        0.60         33400  \n",
      "7     8719        0.64         35000  \n",
      "8    16016        0.20         60000  \n",
      "9      542        0.38         40000  \n",
      "10    2322        0.31         36400  \n",
      "11   32441        0.45         45000  \n",
      "12    1122        0.27         41300  \n",
      "13    6515        0.34         57000  \n",
      "14    8284        0.20         60000  \n",
      "15    5276        0.58         33000  \n",
      "16     905        0.25         50000  \n",
      "17    1330        0.31         60000  \n",
      "18    1874        0.52         40000  \n",
      "19     703        0.53         37000  \n",
      "20   10874        0.59         40000  \n",
      "21     373        0.14         65000  \n",
      "22    9062        0.28         45000  \n",
      "23    6604        0.37         35000  \n",
      "24   15178        0.58         35600  \n",
      "25     960        0.54         62000  \n",
      "26     973        0.33         52000  \n",
      "27   11021        0.34         65000  \n",
      "28    2145        0.43         45000  \n",
      "29     135        0.11         70000  \n",
      "30    1385        0.34         50000  \n",
      "31    2908        0.24         45000  \n",
      "32    6548        0.44         60000  \n",
      "33   10907        0.12         60000  \n",
      "34   35037        0.56         35000  \n",
      "35   28576        0.22         53000  \n",
      "36     282        0.12        110000  \n",
      "37    2863        0.32         57100  \n",
      "38    1666        0.69         44700  \n",
      "39    2164        0.56         41000  \n",
      "40   13638        0.62         35000  \n",
      "41    1588        0.75         46000  \n",
      "42     990        0.35         54000  \n",
      "43    1735        0.19         50000  \n",
      "44   20957        0.45         40000  \n",
      "45    3384        0.29         52000  \n",
      "46    9306        0.25         45000  \n",
      "47   15469        0.25         56000  \n",
      "48    1459        0.18         37500  \n",
      "49    5159        0.47         36200  \n",
      "50   33607        0.51         39000  \n",
      "51    8849        0.58         38000  \n",
      "52    2105        0.14         60000  \n",
      "53    5959        0.56         33500  \n",
      "54    1299        0.32         35000  \n",
      "55     232        0.32         50000  \n",
      "56     371        0.08         40000  \n",
      "57   20156        0.52         37400  \n",
      "58     109        0.18         42000  \n"
     ]
    }
   ],
   "execution_count": 13
  },
  {
   "cell_type": "markdown",
   "source": [
    "### **Step #2 Data Processing and Analysis**\n",
    "\n",
    " The operations performed in the following codes involve importing data into a `pandas` DataFrame, manipulating and cleaning the data (such as setting headers, resetting indices, and converting data types), and finally sorting the data based on specific criteria.\n",
    "\n",
    "\n",
    "\n",
    "\n",
    "\n",
    "\n"
   ],
   "metadata": {
    "id": "GrYqguKPpCyA"
   }
  },
  {
   "cell_type": "code",
   "source": [
    "import pandas as pd\n",
    "\n",
    "# Converts a sheet into a DataFrame\n",
    "def csvToDataFrame(file_path):\n",
    "  dataFrame = pd.read_csv(file_path)\n",
    "  return dataFrame\n",
    "\n",
    "# Converts column to numeric values\n",
    "def convertColumnNumeric(dataFrame, columnName):\n",
    "  return pandas.to_numeric(dataFrame[columnName] , errors=\"coerce\")\n",
    "\n",
    "\n",
    "\n",
    "\n",
    "\n",
    "# Sorts a DataFrame with the given parameters\n",
    "def sortDataFrame(dataFrame, columnName, isAscending, numOfElements):\n",
    "    if columnName not in dataFrame.columns:\n",
    "        print(f\"Error: {columnName} not found in dataframe\")\n",
    "        print(\"Available columns:\", dataFrame.columns)\n",
    "        return None\n",
    "    return dataFrame.sort_values(by=columnName, ascending=isAscending).head(numOfElements)\n",
    "\n",
    "\n",
    "file_path= \"/Users/callumsmith/PycharmProjects/PythonProject/Unit1_Fundamentals/Fundamentals1/womenInSTEM.csv\"\n",
    "df = csvToDataFrame(file_path)\n",
    "\n",
    "if df is not None:\n",
    "   print(df)\n",
    "\n",
    "print(\"sorted based on Total for first 10 elements\")\n",
    "numbers = sortDataFrame(df, \"Total\", True, 10)\n",
    "print(numbers)\n",
    "\n",
    "print(\"Column Values\")\n",
    "col =convertColumnNumeric(df, \"Men\")\n",
    "print(col)\n",
    "print(\"Available columns:\", df.columns)"
   ],
   "metadata": {
    "id": "OgPaO_m5O5a8",
    "ExecuteTime": {
     "end_time": "2025-01-29T05:28:58.078049Z",
     "start_time": "2025-01-29T05:28:58.043970Z"
    }
   },
   "outputs": [
    {
     "name": "stdout",
     "output_type": "stream",
     "text": [
      "    Code                       Major      MajorCategory   Total     Men  \\\n",
      "0   3607                PHARMACOLOGY       Life Science    1762     515   \n",
      "1   3609                     ZOOLOGY       Life Science    8409    3050   \n",
      "2   3702                  STATISTICS        Mathematics    6251    2960   \n",
      "3   2406           CIVIL ENGINEERING        Engineering   53153   41081   \n",
      "4   5005                 GEOSCIENCES  Physical Sciences    1978     809   \n",
      "5   2415   METALLURGICAL ENGINEERING        Engineering     856     725   \n",
      "6   3600                     BIOLOGY            Biology  280709  111762   \n",
      "7   3611                NEUROSCIENCE            Biology   13663    4944   \n",
      "8   2408      ELECTRICAL ENGINEERING        Engineering   81527   65511   \n",
      "9   5000           PHYSICAL SCIENCES  Physical Sciences    1436     894   \n",
      "10  2107                  NETWORKING          Computers    7613    5291   \n",
      "11  3700                 MATHEMATICS        Mathematics   72397   39956   \n",
      "12  2101             DATA PROCESSING          Computers    4168    3046   \n",
      "13  2412      INDUSTRIAL ENGINEERING        Engineering   18968   12453   \n",
      "14  2407        COMPUTER ENGINEERING        Engineering   41542   33258   \n",
      "15  3604                     ECOLOGY       Life Science    9154    3878   \n",
      "16  2500    ENGINEERING TECHNOLOGIES        Engineering    3600    2695   \n",
      "17  5008           MATERIALS SCIENCE        Engineering    4279    2949   \n",
      "18  3605                    GENETICS            Biology    3635    1761   \n",
      "19  3602                      BOTANY            Biology    1329     626   \n",
      "20  3603           MOLECULAR BIOLOGY            Biology   18300    7426   \n",
      "21  2418         NUCLEAR ENGINEERING        Engineering    2573    2200   \n",
      "22  5007                     PHYSICS  Physical Sciences   32142   23080   \n",
      "23  2001  COMMUNICATION TECHNOLOGIES          Computers   18035   11431   \n",
      "24  1301       ENVIRONMENTAL SCIENCE       Life Science   25965   10787   \n",
      "25  5001     ASTRONOMY, ASTROPHYSICS  Physical Sciences    1792     832   \n",
      "26  2413       MATERIALS ENGINEERING        Engineering    2993    2020   \n",
      "27  2405        CHEMICAL ENGINEERING        Engineering   32260   21239   \n",
      "28  3701         APPLIED MATHEMATICS        Mathematics    4939    2794   \n",
      "29  2417          MARINE ENGINEERING        Engineering    1258    1123   \n",
      "30  2410   ENVIRONMENTAL ENGINEERING        Engineering    4047    2662   \n",
      "31  2105        INFORMATION SCIENCES          Computers   11913    9005   \n",
      "32  2404      BIOMEDICAL ENGINEERING        Engineering   14955    8407   \n",
      "33  2414      MECHANICAL ENGINEERING        Engineering   91227   80320   \n",
      "34  5098             GENERAL SCIENCE  Physical Sciences   62052   27015   \n",
      "35  2102            COMPUTER SCIENCE          Computers  128319   99743   \n",
      "36  2419       PETROLEUM ENGINEERING        Engineering    2339    2057   \n",
      "37  2402      BIOLOGICAL ENGINEERING        Engineering    8925    6062   \n",
      "38  5006                OCEANOGRAPHY  Physical Sciences    2418     752   \n",
      "39  4006               BIOPSYCHOLOGY       Life Science    3831    1667   \n",
      "40  3608                  PHYSIOLOGY            Biology   22060    8422   \n",
      "41  5102     INDUSTRIAL TECHNOLOGIES  Physical Sciences    2116     528   \n",
      "42  2403   ARCHITECTURAL ENGINEERING        Engineering    2825    1835   \n",
      "43  2499   MISCELLANEOUS ENGINEERING        Engineering    9133    7398   \n",
      "44  1401                ARCHITECTURE        Engineering   46420   25463   \n",
      "45  2502      ELECTRICAL ENGINEERING        Engineering   11565    8181   \n",
      "46  2100         INFORMATION SYSTEMS          Computers   36698   27392   \n",
      "47  2400         GENERAL ENGINEERING        Engineering   61152   45683   \n",
      "48  2106     COMPUTER ADMINISTRATION          Computers    8066    6607   \n",
      "49  5004               EARTH SCIENCE  Physical Sciences   10972    5813   \n",
      "50  5003                   CHEMISTRY  Physical Sciences   66530   32923   \n",
      "51  3606                MICROBIOLOGY            Biology   15232    6383   \n",
      "52  2401       AEROSPACE ENGINEERING        Engineering   15058   12953   \n",
      "53  3699       MISCELLANEOUS BIOLOGY            Biology   10706    4747   \n",
      "54  5002                 METEOROLOGY  Physical Sciences    4043    2744   \n",
      "55  2411     GEOPHYSICAL ENGINEERING        Engineering     720     488   \n",
      "56  2504      MECHANICAL ENGINEERING        Engineering    4790    4419   \n",
      "57  3601        BIOCHEMICAL SCIENCES       Life Science   39107   18951   \n",
      "58  4005                 MATHEMATICS        Mathematics     609     500   \n",
      "\n",
      "     Women  WomenShare  MedianSalary  \n",
      "0     1247        0.71         45000  \n",
      "1     5359        0.64         26000  \n",
      "2     3291        0.53         45000  \n",
      "3    12072        0.23         50000  \n",
      "4     1169        0.59         36000  \n",
      "5      131        0.15         73000  \n",
      "6   168947        0.60         33400  \n",
      "7     8719        0.64         35000  \n",
      "8    16016        0.20         60000  \n",
      "9      542        0.38         40000  \n",
      "10    2322        0.31         36400  \n",
      "11   32441        0.45         45000  \n",
      "12    1122        0.27         41300  \n",
      "13    6515        0.34         57000  \n",
      "14    8284        0.20         60000  \n",
      "15    5276        0.58         33000  \n",
      "16     905        0.25         50000  \n",
      "17    1330        0.31         60000  \n",
      "18    1874        0.52         40000  \n",
      "19     703        0.53         37000  \n",
      "20   10874        0.59         40000  \n",
      "21     373        0.14         65000  \n",
      "22    9062        0.28         45000  \n",
      "23    6604        0.37         35000  \n",
      "24   15178        0.58         35600  \n",
      "25     960        0.54         62000  \n",
      "26     973        0.33         52000  \n",
      "27   11021        0.34         65000  \n",
      "28    2145        0.43         45000  \n",
      "29     135        0.11         70000  \n",
      "30    1385        0.34         50000  \n",
      "31    2908        0.24         45000  \n",
      "32    6548        0.44         60000  \n",
      "33   10907        0.12         60000  \n",
      "34   35037        0.56         35000  \n",
      "35   28576        0.22         53000  \n",
      "36     282        0.12        110000  \n",
      "37    2863        0.32         57100  \n",
      "38    1666        0.69         44700  \n",
      "39    2164        0.56         41000  \n",
      "40   13638        0.62         35000  \n",
      "41    1588        0.75         46000  \n",
      "42     990        0.35         54000  \n",
      "43    1735        0.19         50000  \n",
      "44   20957        0.45         40000  \n",
      "45    3384        0.29         52000  \n",
      "46    9306        0.25         45000  \n",
      "47   15469        0.25         56000  \n",
      "48    1459        0.18         37500  \n",
      "49    5159        0.47         36200  \n",
      "50   33607        0.51         39000  \n",
      "51    8849        0.58         38000  \n",
      "52    2105        0.14         60000  \n",
      "53    5959        0.56         33500  \n",
      "54    1299        0.32         35000  \n",
      "55     232        0.32         50000  \n",
      "56     371        0.08         40000  \n",
      "57   20156        0.52         37400  \n",
      "58     109        0.18         42000  \n",
      "sorted based on Total for first 10 elements\n",
      "    Code                      Major      MajorCategory  Total   Men  Women  \\\n",
      "58  4005                MATHEMATICS        Mathematics    609   500    109   \n",
      "55  2411    GEOPHYSICAL ENGINEERING        Engineering    720   488    232   \n",
      "5   2415  METALLURGICAL ENGINEERING        Engineering    856   725    131   \n",
      "29  2417         MARINE ENGINEERING        Engineering   1258  1123    135   \n",
      "19  3602                     BOTANY            Biology   1329   626    703   \n",
      "9   5000          PHYSICAL SCIENCES  Physical Sciences   1436   894    542   \n",
      "0   3607               PHARMACOLOGY       Life Science   1762   515   1247   \n",
      "25  5001    ASTRONOMY, ASTROPHYSICS  Physical Sciences   1792   832    960   \n",
      "4   5005                GEOSCIENCES  Physical Sciences   1978   809   1169   \n",
      "41  5102    INDUSTRIAL TECHNOLOGIES  Physical Sciences   2116   528   1588   \n",
      "\n",
      "    WomenShare  MedianSalary  \n",
      "58        0.18         42000  \n",
      "55        0.32         50000  \n",
      "5         0.15         73000  \n",
      "29        0.11         70000  \n",
      "19        0.53         37000  \n",
      "9         0.38         40000  \n",
      "0         0.71         45000  \n",
      "25        0.54         62000  \n",
      "4         0.59         36000  \n",
      "41        0.75         46000  \n",
      "Column Values\n",
      "0        515\n",
      "1       3050\n",
      "2       2960\n",
      "3      41081\n",
      "4        809\n",
      "5        725\n",
      "6     111762\n",
      "7       4944\n",
      "8      65511\n",
      "9        894\n",
      "10      5291\n",
      "11     39956\n",
      "12      3046\n",
      "13     12453\n",
      "14     33258\n",
      "15      3878\n",
      "16      2695\n",
      "17      2949\n",
      "18      1761\n",
      "19       626\n",
      "20      7426\n",
      "21      2200\n",
      "22     23080\n",
      "23     11431\n",
      "24     10787\n",
      "25       832\n",
      "26      2020\n",
      "27     21239\n",
      "28      2794\n",
      "29      1123\n",
      "30      2662\n",
      "31      9005\n",
      "32      8407\n",
      "33     80320\n",
      "34     27015\n",
      "35     99743\n",
      "36      2057\n",
      "37      6062\n",
      "38       752\n",
      "39      1667\n",
      "40      8422\n",
      "41       528\n",
      "42      1835\n",
      "43      7398\n",
      "44     25463\n",
      "45      8181\n",
      "46     27392\n",
      "47     45683\n",
      "48      6607\n",
      "49      5813\n",
      "50     32923\n",
      "51      6383\n",
      "52     12953\n",
      "53      4747\n",
      "54      2744\n",
      "55       488\n",
      "56      4419\n",
      "57     18951\n",
      "58       500\n",
      "Name: Men, dtype: int64\n",
      "Available columns: Index(['Code', 'Major', 'MajorCategory', 'Total', 'Men', 'Women', 'WomenShare',\n",
      "       'MedianSalary'],\n",
      "      dtype='object')\n"
     ]
    }
   ],
   "execution_count": 61
  },
  {
   "cell_type": "markdown",
   "source": [
    "### **Step #3 Data Visualization**\n",
    "\n",
    "This step involves utilizing Pandas for data visualization, specifically to generate a bar chart that compares the number of male and female students across different STEM majors. It also includes a customization of the plot, like adjusting labels and rotating x-axis labels for clarity."
   ],
   "metadata": {
    "id": "QDQ7ecXTp60a"
   }
  },
  {
   "cell_type": "code",
   "source": [
    "import matplotlib.pyplot\n",
    "\n",
    "# Convert the womenInSTEM sheet to a DataFrame\n",
    "dataFrame = csvToDataFrame(file_path)\n",
    "\n",
    "# Convert two of columns to numeric values\n",
    "convertColumnNumeric(dataFrame, \"Men\")\n",
    "convertColumnNumeric(dataFrame, \"Women\")\n",
    "\n",
    "# Create a DataFrame with the top 10 elements because isAscending is False\n",
    "# if isAcending were True, we would get the bottom 10\n",
    "sortedTenDF = sortDataFrame(dataFrame, \"Women\", False, 10)\n",
    "\n",
    "# Plotting using Pandas\n",
    "graph = sortedTenDF.plot(kind=\"bar\", x=\"Major\", y=[\"Men\", \"Women\"], color=[\"blue\", \"red\"], stacked=True)\n",
    "\n",
    "# Make the legend show only the columns containing y values\n",
    "graph.legend()\n",
    "\n",
    "# Labels and title\n",
    "graph.set_xlabel(\"Majors\")\n",
    "graph.set_ylabel(\"Number of Students\")\n",
    "graph.set_title(\"Top 10 Majors by Number of Male and Female Students in STEM\")\n",
    "\n",
    "# Set the x-axis ticks and rotate x-axis labels\n",
    "graph.set_xticklabels(sortedTenDF.get(\"Major\"), rotation=90)\n",
    "\n",
    "# Adjust layout and show the plot for better display\n",
    "matplotlib.pyplot.tight_layout()\n",
    "matplotlib.pyplot.show()"
   ],
   "metadata": {
    "id": "YFkvizkQsZUt",
    "ExecuteTime": {
     "end_time": "2025-01-29T05:32:45.401833Z",
     "start_time": "2025-01-29T05:32:45.245362Z"
    }
   },
   "outputs": [
    {
     "data": {
      "text/plain": [
       "<Figure size 640x480 with 1 Axes>"
      ],
      "image/png": "[encoded data removed]"
     },
     "metadata": {},
     "output_type": "display_data"
    }
   ],
   "execution_count": 64
  },
  {
   "cell_type": "markdown",
   "source": [
    "##**More operations**\n",
    "The following functions are written to draw more information from the dataset. Take note that the functions use objects or variables in the previous codes and will only work if you have run them. The following functions particularly use the object, `dataFrame` for testing, which is unsorted and stores the full data from the worksheet.\n",
    "\n",
    "You must look at the column names in the spreadsheet to get familiar with the columns."
   ],
   "metadata": {
    "id": "CIoDf36fytfs"
   }
  },
  {
   "cell_type": "markdown",
   "source": [
    "1. **Converts a column to a list:** This function converts the values of a specified column to a list and returns the list\n",
    "\n",
    "\n"
   ],
   "metadata": {
    "id": "xuz-PVJ8qzPl"
   }
  },
  {
   "cell_type": "code",
   "source": [
    "def columnToList(dFrame, columnName):\n",
    "  return dataFrame.get(columnName).tolist()\n",
    "\n",
    "# Testing the function\n",
    "print(\"List of enrollment\")\n",
    "print(columnToList(dataFrame, \"Men\"))"
   ],
   "metadata": {
    "id": "hun17gx7pLg3",
    "ExecuteTime": {
     "end_time": "2025-01-29T05:32:56.619370Z",
     "start_time": "2025-01-29T05:32:56.612293Z"
    }
   },
   "outputs": [
    {
     "name": "stdout",
     "output_type": "stream",
     "text": [
      "List of enrollment\n",
      "[515, 3050, 2960, 41081, 809, 725, 111762, 4944, 65511, 894, 5291, 39956, 3046, 12453, 33258, 3878, 2695, 2949, 1761, 626, 7426, 2200, 23080, 11431, 10787, 832, 2020, 21239, 2794, 1123, 2662, 9005, 8407, 80320, 27015, 99743, 2057, 6062, 752, 1667, 8422, 528, 1835, 7398, 25463, 8181, 27392, 45683, 6607, 5813, 32923, 6383, 12953, 4747, 2744, 488, 4419, 18951, 500]\n"
     ]
    }
   ],
   "execution_count": 65
  },
  {
   "cell_type": "markdown",
   "source": [
    "## You Do #2\n",
    "\n",
    "Write a function that calculates and returns the average enrollment for a given gender. Use the function to compare the average for Men and Women."
   ],
   "metadata": {
    "id": "-gs7uPg8Lvs4"
   }
  },
  {
   "cell_type": "code",
   "source": [
    "# Write your code here\n",
    "def averageEnrollment(dataFrame, columnName):\n",
    "    sum = 0\n",
    "    col = columnToList(dataFrame, columnName)\n",
    "    for n in col:\n",
    "        sum += n\n",
    "    return sum / len(col)\n",
    "\n",
    "\n",
    "\n",
    "# Testing the function\n",
    "print(averageEnrollment(dataFrame, \"Women\"))\n",
    "print(averageEnrollment(dataFrame, \"Men\"))\n"
   ],
   "metadata": {
    "id": "dE3PwMAqLxTA",
    "ExecuteTime": {
     "end_time": "2025-01-29T05:38:21.184354Z",
     "start_time": "2025-01-29T05:38:21.176295Z"
    }
   },
   "outputs": [
    {
     "name": "stdout",
     "output_type": "stream",
     "text": [
      "9733.864406779661\n",
      "14918.915254237289\n"
     ]
    }
   ],
   "execution_count": 73
  },
  {
   "cell_type": "markdown",
   "source": [
    "## You Do #3\n",
    "Write a function that finds and prints the major with the highest enrollment for men and the major with highest enrollment for women."
   ],
   "metadata": {
    "id": "I0lvFmy59hWv"
   }
  },
  {
   "cell_type": "code",
   "source": [
    "# Write your code here\n",
    "def find_highest(dataFrame, columnName):\n",
    "    return dataFrame.get(columnName).max\n",
    "\n",
    "\n",
    "\n",
    "\n",
    "# Testing the function\n",
    "\n"
   ],
   "metadata": {
    "id": "FHQSjTBT9Kea",
    "ExecuteTime": {
     "end_time": "2025-01-29T05:41:57.753555Z",
     "start_time": "2025-01-29T05:41:57.705188Z"
    }
   },
   "outputs": [
    {
     "name": "stdout",
     "output_type": "stream",
     "text": [
      "    Code                   Major      MajorCategory   Total     Men   Women  \\\n",
      "6   3600                 BIOLOGY            Biology  280709  111762  168947   \n",
      "35  2102        COMPUTER SCIENCE          Computers  128319   99743   28576   \n",
      "33  2414  MECHANICAL ENGINEERING        Engineering   91227   80320   10907   \n",
      "8   2408  ELECTRICAL ENGINEERING        Engineering   81527   65511   16016   \n",
      "47  2400     GENERAL ENGINEERING        Engineering   61152   45683   15469   \n",
      "3   2406       CIVIL ENGINEERING        Engineering   53153   41081   12072   \n",
      "11  3700             MATHEMATICS        Mathematics   72397   39956   32441   \n",
      "14  2407    COMPUTER ENGINEERING        Engineering   41542   33258    8284   \n",
      "50  5003               CHEMISTRY  Physical Sciences   66530   32923   33607   \n",
      "46  2100     INFORMATION SYSTEMS          Computers   36698   27392    9306   \n",
      "\n",
      "    WomenShare  MedianSalary  \n",
      "6         0.60         33400  \n",
      "35        0.22         53000  \n",
      "33        0.12         60000  \n",
      "8         0.20         60000  \n",
      "47        0.25         56000  \n",
      "3         0.23         50000  \n",
      "11        0.45         45000  \n",
      "14        0.20         60000  \n",
      "50        0.51         39000  \n",
      "46        0.25         45000  \n"
     ]
    }
   ],
   "execution_count": 74
  },
  {
   "cell_type": "markdown",
   "source": [
    "2. **Groups by group name and column name:** This function groups the data by specific group and column name. The result is a Pandas DataFrame."
   ],
   "metadata": {
    "id": "JUMAJh9VzTNL"
   }
  },
  {
   "cell_type": "code",
   "source": [
    "def groupBy(dataFrame, groupColName, colName):\n",
    "     # Ensure the specified column is numeric\n",
    "    convertColumnNumeric(dataFrame, colName)\n",
    "\n",
    "    # Group by 'Group Column Name'\n",
    "    groupedColumnValues =  dataFrame.groupby(groupColName)[colName]\n",
    "    return groupedColumnValues\n",
    "\n",
    "\n",
    "# Testing the function standard Statistics functions\n",
    "columnName = input(\"Enter column name: \")\n",
    "print(groupBy(dataFrame, \"MajorCategory\", columnName).sum())\n",
    "print()\n",
    "print(groupBy(dataFrame, \"MajorCategory\", columnName).mean())\n",
    "print()\n",
    "print(groupBy(dataFrame, \"MajorCategory\", columnName).median())"
   ],
   "metadata": {
    "id": "rNA3B7h0bezO",
    "ExecuteTime": {
     "end_time": "2025-01-29T05:44:14.577724Z",
     "start_time": "2025-01-29T05:44:11.460164Z"
    }
   },
   "outputs": [
    {
     "name": "stdout",
     "output_type": "stream",
     "text": [
      "MajorCategory\n",
      "Biology              146071\n",
      "Computers            162515\n",
      "Engineering          391182\n",
      "Life Science          38848\n",
      "Mathematics           46210\n",
      "Physical Sciences     95390\n",
      "Name: Men, dtype: int64\n",
      "\n",
      "MajorCategory\n",
      "Biology              18258.875000\n",
      "Computers            23216.428571\n",
      "Engineering          16299.250000\n",
      "Life Science          6474.666667\n",
      "Mathematics          11552.500000\n",
      "Physical Sciences     9539.000000\n",
      "Name: Men, dtype: float64\n",
      "\n",
      "MajorCategory\n",
      "Biology              5663.5\n",
      "Computers            9005.0\n",
      "Engineering          6730.0\n",
      "Life Science         3464.0\n",
      "Mathematics          2877.0\n",
      "Physical Sciences    1819.0\n",
      "Name: Men, dtype: float64\n"
     ]
    }
   ],
   "execution_count": 76
  },
  {
   "cell_type": "markdown",
   "source": [
    "##**Lab 0 (Individual or Partner)**\n",
    "Your main task is to create a line graph using Python libraries to compare the number of men and women in the top 10 majors with the highest median salary.\n",
    "\n",
    "The chart must visually represent gender distribution in relation to the median salaries of ten (10) Majors. The visual must apply clear labeling and formatting to make it informative and easy to understand.\n",
    "\n",
    "You will then write specific functions to analyze the data further.\n",
    "\n",
    "\n",
    "\n",
    "\n"
   ],
   "metadata": {
    "id": "otmCMJMG8bAJ"
   }
  },
  {
   "cell_type": "markdown",
   "source": [
    "###**Part 1: Data Analysis and Visualization**\n",
    "\n",
    "1. Load the dataset into a DataFrame using appropriate Python libraries. Inspect the data to ensure that it includes 'Major', 'Men', 'Women', and 'MedianSalary' columns. Sort this data to identify the top 10 majors based on the 10 highest median salaries.\n",
    "\n",
    "2. Create a line chart that compares the number of men and women in top 10 majors based on the highest median salary. The chart must visually represent gender distribution in relation to the highest ten(10) median salaries of the ten (10) majors.\n"
   ],
   "metadata": {
    "id": "aAtYGKPrdbVT"
   }
  },
  {
   "cell_type": "code",
   "source": [
    "# Write your code here\n",
    "import pandas\n",
    "import matplotlib.pyplot\n",
    "import pandas as pd\n",
    "\n",
    "def load_csv(file_path):\n",
    "    try:\n",
    "        df = pd.read_csv(file_path)\n",
    "        return df\n",
    "    except FileNotFoundError:\n",
    "        print(f\"File not found at {file_path}\")\n",
    "    except Exception as e:\n",
    "        print(f\"An error occurred{e}\")\n",
    "\n",
    "def sortDataFrame(dataFrame, columnName, isAscending, numOfElements):\n",
    "    if columnName not in dataFrame.columns:\n",
    "        print(f\"Error: {columnName} not found in dataframe\")\n",
    "        print(\"Available columns:\", dataFrame.columns)\n",
    "        return None\n",
    "    return dataFrame.sort_values(by=columnName, ascending=isAscending).head(numOfElements)\n",
    "\n",
    "def checkForCollumns(dataFrame, columnName1, columnName2, columnName3, columnName4):\n",
    "    if (columnName1 not in dataFrame.columns) or (columnName2 not in dataFrame.columns) or (columnName3 not in dataFrame.columns) or (columnName4 not in dataFrame.columns):\n",
    "        return False\n",
    "def columnToList(dFrame, columnName):\n",
    "  return dataFrame.get(columnName).tolist()\n",
    "\n",
    "file_path= \"/Users/callumsmith/PycharmProjects/PythonProject/Unit1_Fundamentals/Fundamentals1/womenInSTEM.csv\"\n",
    "data = load_csv(file_path)\n",
    "columns = data.columns\n",
    "if checkForCollumns(data, \"Men\", \"Women\", \"Major\", \"MedianSalary\"):\n",
    "    df = sortDataFrame(data, \"MedianSalary\", False, 10)\n",
    "print(\"top 10 Majors my Median Salary: \")\n",
    "for i in range(10):\n",
    "\n",
    "    print(str(i + 1) + \". \" + df.get(\"Major\").tolist()[i])\n",
    "\n",
    "#part 2\n",
    "\n",
    "# Convert two of columns to numeric values\n",
    "convertColumnNumeric(dataFrame, \"Men\")\n",
    "convertColumnNumeric(dataFrame, \"Women\")\n",
    "\n",
    "\n",
    "# Plotting using Pandas\n",
    "graph = sortedTenDF.plot(kind=\"line\", x=\"Major\", y=[\"Men\", \"Women\"], color=[\"blue\", \"red\"], stacked=False)\n",
    "\n",
    "# Make the legend show only the columns containing y values\n",
    "graph.legend()\n",
    "\n",
    "# Labels and title\n",
    "graph.set_xlabel(\"Majors\")\n",
    "graph.set_ylabel(\"Number of Students\")\n",
    "graph.set_title(\"Top 10 Majors by Number of Male and Female Students in STEM\")\n",
    "\n",
    "# Set the x-axis ticks and rotate x-axis labels\n",
    "graph.set_xticklabels(sortedTenDF.get(\"Major\"), rotation=90)\n",
    "\n",
    "# Adjust layout and show the plot for better display\n",
    "matplotlib.pyplot.tight_layout()\n",
    "matplotlib.pyplot.show()\n",
    "\n",
    "\n",
    "\n",
    "\n",
    "\n",
    "\n",
    "\n",
    "\n"
   ],
   "metadata": {
    "id": "3PvG7U6-dcrP",
    "ExecuteTime": {
     "end_time": "2025-01-31T07:45:50.467264Z",
     "start_time": "2025-01-31T07:45:49.498095Z"
    }
   },
   "outputs": [
    {
     "name": "stdout",
     "output_type": "stream",
     "text": [
      "top 10 Majors my Median Salary: \n",
      "1. PHARMACOLOGY\n",
      "2. ZOOLOGY\n",
      "3. STATISTICS\n",
      "4. CIVIL ENGINEERING\n",
      "5. GEOSCIENCES\n",
      "6. METALLURGICAL ENGINEERING\n",
      "7. BIOLOGY\n",
      "8. NEUROSCIENCE\n",
      "9. ELECTRICAL ENGINEERING\n",
      "10. PHYSICAL SCIENCES\n"
     ]
    },
    {
     "ename": "ValueError",
     "evalue": "The number of FixedLocator locations (7), usually from a call to set_ticks, does not match the number of labels (10).",
     "output_type": "error",
     "traceback": [
      "\u001B[0;31m---------------------------------------------------------------------------\u001B[0m",
      "\u001B[0;31mValueError\u001B[0m                                Traceback (most recent call last)",
      "Cell \u001B[0;32mIn[85], line 57\u001B[0m\n\u001B[1;32m     54\u001B[0m graph\u001B[38;5;241m.\u001B[39mset_title(\u001B[38;5;124m\"\u001B[39m\u001B[38;5;124mTop 10 Majors by Number of Male and Female Students in STEM\u001B[39m\u001B[38;5;124m\"\u001B[39m)\n\u001B[1;32m     56\u001B[0m \u001B[38;5;66;03m# Set the x-axis ticks and rotate x-axis labels\u001B[39;00m\n\u001B[0;32m---> 57\u001B[0m \u001B[43mgraph\u001B[49m\u001B[38;5;241;43m.\u001B[39;49m\u001B[43mset_xticklabels\u001B[49m\u001B[43m(\u001B[49m\u001B[43msortedTenDF\u001B[49m\u001B[38;5;241;43m.\u001B[39;49m\u001B[43mget\u001B[49m\u001B[43m(\u001B[49m\u001B[38;5;124;43m\"\u001B[39;49m\u001B[38;5;124;43mMajor\u001B[39;49m\u001B[38;5;124;43m\"\u001B[39;49m\u001B[43m)\u001B[49m\u001B[43m,\u001B[49m\u001B[43m \u001B[49m\u001B[43mrotation\u001B[49m\u001B[38;5;241;43m=\u001B[39;49m\u001B[38;5;241;43m90\u001B[39;49m\u001B[43m)\u001B[49m\n\u001B[1;32m     59\u001B[0m \u001B[38;5;66;03m# Adjust layout and show the plot for better display\u001B[39;00m\n\u001B[1;32m     60\u001B[0m matplotlib\u001B[38;5;241m.\u001B[39mpyplot\u001B[38;5;241m.\u001B[39mtight_layout()\n",
      "File \u001B[0;32m~/PycharmProjects/PythonProject/Unit1_Fundamentals/.venv/lib/python3.10/site-packages/matplotlib/axes/_base.py:74\u001B[0m, in \u001B[0;36m_axis_method_wrapper.__set_name__.<locals>.wrapper\u001B[0;34m(self, *args, **kwargs)\u001B[0m\n\u001B[1;32m     73\u001B[0m \u001B[38;5;28;01mdef\u001B[39;00m\u001B[38;5;250m \u001B[39m\u001B[38;5;21mwrapper\u001B[39m(\u001B[38;5;28mself\u001B[39m, \u001B[38;5;241m*\u001B[39margs, \u001B[38;5;241m*\u001B[39m\u001B[38;5;241m*\u001B[39mkwargs):\n\u001B[0;32m---> 74\u001B[0m     \u001B[38;5;28;01mreturn\u001B[39;00m \u001B[43mget_method\u001B[49m\u001B[43m(\u001B[49m\u001B[38;5;28;43mself\u001B[39;49m\u001B[43m)\u001B[49m\u001B[43m(\u001B[49m\u001B[38;5;241;43m*\u001B[39;49m\u001B[43margs\u001B[49m\u001B[43m,\u001B[49m\u001B[43m \u001B[49m\u001B[38;5;241;43m*\u001B[39;49m\u001B[38;5;241;43m*\u001B[39;49m\u001B[43mkwargs\u001B[49m\u001B[43m)\u001B[49m\n",
      "File \u001B[0;32m~/PycharmProjects/PythonProject/Unit1_Fundamentals/.venv/lib/python3.10/site-packages/matplotlib/axis.py:2117\u001B[0m, in \u001B[0;36mAxis.set_ticklabels\u001B[0;34m(self, labels, minor, fontdict, **kwargs)\u001B[0m\n\u001B[1;32m   2113\u001B[0m \u001B[38;5;28;01melif\u001B[39;00m \u001B[38;5;28misinstance\u001B[39m(locator, mticker\u001B[38;5;241m.\u001B[39mFixedLocator):\n\u001B[1;32m   2114\u001B[0m     \u001B[38;5;66;03m# Passing [] as a list of labels is often used as a way to\u001B[39;00m\n\u001B[1;32m   2115\u001B[0m     \u001B[38;5;66;03m# remove all tick labels, so only error for > 0 labels\u001B[39;00m\n\u001B[1;32m   2116\u001B[0m     \u001B[38;5;28;01mif\u001B[39;00m \u001B[38;5;28mlen\u001B[39m(locator\u001B[38;5;241m.\u001B[39mlocs) \u001B[38;5;241m!=\u001B[39m \u001B[38;5;28mlen\u001B[39m(labels) \u001B[38;5;129;01mand\u001B[39;00m \u001B[38;5;28mlen\u001B[39m(labels) \u001B[38;5;241m!=\u001B[39m \u001B[38;5;241m0\u001B[39m:\n\u001B[0;32m-> 2117\u001B[0m         \u001B[38;5;28;01mraise\u001B[39;00m \u001B[38;5;167;01mValueError\u001B[39;00m(\n\u001B[1;32m   2118\u001B[0m             \u001B[38;5;124m\"\u001B[39m\u001B[38;5;124mThe number of FixedLocator locations\u001B[39m\u001B[38;5;124m\"\u001B[39m\n\u001B[1;32m   2119\u001B[0m             \u001B[38;5;124mf\u001B[39m\u001B[38;5;124m\"\u001B[39m\u001B[38;5;124m (\u001B[39m\u001B[38;5;132;01m{\u001B[39;00m\u001B[38;5;28mlen\u001B[39m(locator\u001B[38;5;241m.\u001B[39mlocs)\u001B[38;5;132;01m}\u001B[39;00m\u001B[38;5;124m), usually from a call to\u001B[39m\u001B[38;5;124m\"\u001B[39m\n\u001B[1;32m   2120\u001B[0m             \u001B[38;5;124m\"\u001B[39m\u001B[38;5;124m set_ticks, does not match\u001B[39m\u001B[38;5;124m\"\u001B[39m\n\u001B[1;32m   2121\u001B[0m             \u001B[38;5;124mf\u001B[39m\u001B[38;5;124m\"\u001B[39m\u001B[38;5;124m the number of labels (\u001B[39m\u001B[38;5;132;01m{\u001B[39;00m\u001B[38;5;28mlen\u001B[39m(labels)\u001B[38;5;132;01m}\u001B[39;00m\u001B[38;5;124m).\u001B[39m\u001B[38;5;124m\"\u001B[39m)\n\u001B[1;32m   2122\u001B[0m     tickd \u001B[38;5;241m=\u001B[39m {loc: lab \u001B[38;5;28;01mfor\u001B[39;00m loc, lab \u001B[38;5;129;01min\u001B[39;00m \u001B[38;5;28mzip\u001B[39m(locator\u001B[38;5;241m.\u001B[39mlocs, labels)}\n\u001B[1;32m   2123\u001B[0m     func \u001B[38;5;241m=\u001B[39m functools\u001B[38;5;241m.\u001B[39mpartial(\u001B[38;5;28mself\u001B[39m\u001B[38;5;241m.\u001B[39m_format_with_dict, tickd)\n",
      "\u001B[0;31mValueError\u001B[0m: The number of FixedLocator locations (7), usually from a call to set_ticks, does not match the number of labels (10)."
     ]
    },
    {
     "data": {
      "text/plain": [
       "<Figure size 640x480 with 1 Axes>"
      ],
      "image/png": "[encoded data removed]"
     },
     "metadata": {},
     "output_type": "display_data"
    }
   ],
   "execution_count": 85
  },
  {
   "cell_type": "markdown",
   "source": [
    "\n",
    "###**Part 2: Write Functions**\n",
    "You must extract the data from the dataframe you created in Part #1 to complete each function.\n",
    "\n",
    "1. **Average Median Salary:** Using the Median Salary column, write the `averageMedianSalary(dataframe)` function that calculates and returns the average of all median salary.\n",
    "\n",
    "2. **Highest and Lowest Median Salary:** The `highestLowestMedianSalary(dataframe)` prints the majors with highest and lowest median salary.\n",
    "\n",
    "3. **Gender Gap:** The `calculateGenderGap(dataframe)` computes the difference between the number of men and women enrollment in each of the top 10 majors and stores gaps into a list and returns the list.\n",
    "\n",
    "Test your functions."
   ],
   "metadata": {
    "id": "hYxKtDM-dTwa"
   }
  },
  {
   "cell_type": "code",
   "source": [
    "# Write your functions here\n",
    "def averageMedianSalary(dataFrame):\n",
    "    df = convertColumnNumeric(dataFrame, \"MedianSalary\")\n",
    "    total = 0\n",
    "    jobs = 0\n",
    "    for int in df.get('MedianSalary').tolist():\n",
    "        total = total + int\n",
    "        jobs = jobs + 1\n",
    "\n",
    "    return total / jobs\n",
    "\n",
    "def highestLowestMedianSalary(dataFrame):\n",
    "    df = convertColumnNumeric(dataFrame, \"MedianSalary\")\n",
    "    lowest = df.\n",
    "    maximum = df.get(\"medianSalary\").max()\n",
    "    print(\"The lowest median salary wa\")\n",
    "\n",
    "\n",
    "\n",
    "\n",
    "\n",
    "\n",
    "\n"
   ],
   "metadata": {
    "id": "VjDQYIk58acN"
   },
   "execution_count": null,
   "outputs": []
  },
  {
   "cell_type": "markdown",
   "source": [
    "## **Lab 1 (Individual Work)**\n",
    "\n",
    "### **`StarbucksMenuNutrition` dataset**\n",
    "\n",
    "- Check the [starbucksMenuNutrition](https://docs.google.com/spreadsheets/d/1Vd5gXa3-G9AHDeznT0B8v29O5PuY9GEgkjX3Z2Jx6dI/edit?usp=sharing) dataset and think of how you can visualize parts of the data.\n",
    "- Identify at least four (operations/functions) to perform on the given dataset. Two of the functions must use list and loop/s, and the other two can use `pandas` library functions.\n",
    "- Plan with your approach to complete this lab and be ready to execute your plan next meeting."
   ],
   "metadata": {
    "id": "E-SDR7ujJ-Pr"
   }
  },
  {
   "cell_type": "code",
   "source": [
    "# Write your plan here\n",
    "\n",
    "\n"
   ],
   "metadata": {
    "id": "v3b6T85oKakE"
   },
   "execution_count": null,
   "outputs": []
  }
 ],
 "metadata": {
  "colab": {
   "provenance": [],
   "private_outputs": true
  },
  "kernelspec": {
   "display_name": "Python 3 (ipykernel)",
   "name": "python3",
   "language": "python"
  },
  "language_info": {
   "name": "python"
  }
 },
 "nbformat": 4,
 "nbformat_minor": 0
}
